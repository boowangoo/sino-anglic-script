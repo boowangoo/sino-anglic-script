{
 "cells": [
  {
   "cell_type": "code",
   "execution_count": 4,
   "metadata": {},
   "outputs": [],
   "source": [
    "# !pip install morfessor\n",
    "import morfessor\n",
    "# import nltk\n",
    "# nltk.download('gutenberg')"
   ]
  },
  {
   "cell_type": "code",
   "execution_count": 5,
   "metadata": {},
   "outputs": [],
   "source": [
    "# import os\n",
    "\n",
    "# gutenberg = nltk.corpus.gutenberg\n",
    "# all_unique_words = {}\n",
    "\n",
    "# for w in gutenberg.words():\n",
    "#     w = w.lower()\n",
    "#     if not all(c.isalpha() or c in [\"'\", \"-\"] for c in w):\n",
    "#         continue\n",
    "#     if w not in all_unique_words:\n",
    "#         all_unique_words[w] = 1\n",
    "#     else:\n",
    "#         all_unique_words[w] += 1\n",
    "\n",
    "# word_counts = list(all_unique_words.items())\n",
    "# word_counts.sort(key=lambda x: x[1], reverse=True)\n",
    "\n",
    "# words_file = \"wordlist.gutenburg.txt\"\n",
    "\n",
    "# with open(words_file, \"w\") as f:\n",
    "#     for w, c in word_counts:\n",
    "#         f.write(f\"{c} {w}\\n\")\n"
   ]
  },
  {
   "cell_type": "code",
   "execution_count": 6,
   "metadata": {},
   "outputs": [],
   "source": [
    "# # Train the model\n",
    "# io = morfessor.MorfessorIO()\n",
    "# train_data = list(io.read_corpus_list_file(words_file))\n",
    "# model = morfessor.BaselineModel()\n",
    "# model.load_data(train_data)\n",
    "# model.train_batch()\n",
    "\n",
    "# # Save the model for future use\n",
    "# io.write_binary_model_file(\"model_morfessor.bin\", model)"
   ]
  },
  {
   "cell_type": "code",
   "execution_count": null,
   "metadata": {},
   "outputs": [
    {
     "name": "stdout",
     "output_type": "stream",
     "text": [
      "'geographically' segmented into: ['geographic', 'ally']\n",
      "'geographic' segmented into: ['geographic']\n"
     ]
    }
   ],
   "source": [
    "# Load the trained model\n",
    "io = morfessor.MorfessorIO()\n",
    "model = io.read_binary_model_file(\"unsup_model_eng.bin\")\n",
    "\n",
    "# Function to segment a word\n",
    "def segment_word(word):\n",
    "    return model.viterbi_segment(word)[0]\n",
    "\n",
    "# Test the segmentation\n",
    "word = \"geographically\"\n",
    "segments = segment_word(word)\n",
    "print(f\"'{word}' segmented into: {segments}\")\n",
    "\n",
    "word = \"actually\"\n",
    "segments = segment_word(word)\n",
    "print(f\"'{word}' segmented into: {segments}\")"
   ]
  }
 ],
 "metadata": {
  "kernelspec": {
   "display_name": "main",
   "language": "python",
   "name": "python3"
  },
  "language_info": {
   "codemirror_mode": {
    "name": "ipython",
    "version": 3
   },
   "file_extension": ".py",
   "mimetype": "text/x-python",
   "name": "python",
   "nbconvert_exporter": "python",
   "pygments_lexer": "ipython3",
   "version": "3.12.0"
  }
 },
 "nbformat": 4,
 "nbformat_minor": 2
}
