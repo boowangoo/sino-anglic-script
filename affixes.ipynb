{
 "cells": [
  {
   "cell_type": "code",
   "execution_count": 51,
   "metadata": {},
   "outputs": [],
   "source": [
    "from selenium import webdriver\n",
    "from selenium.webdriver.common.by import By\n",
    "import csv\n",
    "\n",
    "# Set up the Selenium WebDriver (make sure to have the appropriate driver installed)\n",
    "driver = webdriver.Chrome()"
   ]
  },
  {
   "cell_type": "code",
   "execution_count": 52,
   "metadata": {},
   "outputs": [],
   "source": [
    "pages = ['a', 'b', 'c', 'd', 'e', 'f', 'g', 'h', 'i', 'jk', 'l', 'm', 'n', 'o', 'p', 'q', 'r', 's', 't', 'u', 'v', 'w', 'x', 'y', 'z']"
   ]
  },
  {
   "cell_type": "code",
   "execution_count": 53,
   "metadata": {},
   "outputs": [],
   "source": [
    "from selenium.common.exceptions import NoSuchElementException\n",
    "\n",
    "data = []\n",
    "for page in pages:\n",
    "    # Open the webpage\n",
    "    driver.get(f'https://www.affixes.org/alpha/{page}')\n",
    "\n",
    "    rows = driver.find_elements(By.CLASS_NAME, 'index-row')\n",
    "    for row in rows:\n",
    "        affix_elm = row.find_element(By.TAG_NAME, 'a')\n",
    "        try:\n",
    "            variant_elm = affix_elm.find_element(By.TAG_NAME, 'sup')\n",
    "            variant = int(variant_elm.text)-1\n",
    "            affix = affix_elm.text[:-len(variant_elm.text)]\n",
    "        except NoSuchElementException:\n",
    "            variant = 0\n",
    "            affix = affix_elm.text\n",
    "        variant_elements = affix_elm.find_elements(By.TAG_NAME, 'sup')\n",
    "        defn = row.find_elements(By.TAG_NAME, 'p')[-1].text\n",
    "        \n",
    "        data.append([affix, variant, defn])\n",
    "\n",
    "# Write the data to a CSV file\n",
    "with open('affixes.csv', 'w') as f:\n",
    "    writer = csv.writer(f)\n",
    "    writer.writerow(['Affix', 'Variant', 'Definition'])\n",
    "    writer.writerows(data)\n",
    "\n",
    "driver.quit()\n"
   ]
  }
 ],
 "metadata": {
  "kernelspec": {
   "display_name": ".venv",
   "language": "python",
   "name": "python3"
  },
  "language_info": {
   "codemirror_mode": {
    "name": "ipython",
    "version": 3
   },
   "file_extension": ".py",
   "mimetype": "text/x-python",
   "name": "python",
   "nbconvert_exporter": "python",
   "pygments_lexer": "ipython3",
   "version": "3.12.0"
  }
 },
 "nbformat": 4,
 "nbformat_minor": 2
}
